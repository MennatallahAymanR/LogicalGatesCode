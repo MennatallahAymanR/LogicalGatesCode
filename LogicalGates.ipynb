{
 "cells": [
  {
   "cell_type": "code",
   "execution_count": 25,
   "id": "2547910a",
   "metadata": {},
   "outputs": [],
   "source": [
    "def And(x1,x2):\n",
    "    w1=1\n",
    "    w2=1\n",
    "    z=x1*w1+x2*w2\n",
    "    threeshold=1.5\n",
    "    return (int) (z>threeshold)"
   ]
  },
  {
   "cell_type": "code",
   "execution_count": 26,
   "id": "3593e9b5",
   "metadata": {},
   "outputs": [
    {
     "name": "stdout",
     "output_type": "stream",
     "text": [
      "0\n",
      "0\n",
      "0\n",
      "1\n"
     ]
    }
   ],
   "source": [
    "print(And(0,0))\n",
    "print(And(0,1))\n",
    "print(And(1,0))\n",
    "print(And(1,1))"
   ]
  },
  {
   "cell_type": "code",
   "execution_count": 27,
   "id": "501952d7",
   "metadata": {},
   "outputs": [],
   "source": [
    "def Or(x1,x2):\n",
    "    w1=1\n",
    "    w2=1\n",
    "    z=x1*w1+x2*w2\n",
    "    threeshold=0.5\n",
    "    return (int) (z>threeshold)"
   ]
  },
  {
   "cell_type": "code",
   "execution_count": 28,
   "id": "43de2ab2",
   "metadata": {},
   "outputs": [
    {
     "name": "stdout",
     "output_type": "stream",
     "text": [
      "0\n",
      "1\n",
      "1\n",
      "1\n"
     ]
    }
   ],
   "source": [
    "print(Or(0,0))\n",
    "print(Or(0,1))\n",
    "print(Or(1,0))\n",
    "print(Or(1,1))"
   ]
  },
  {
   "cell_type": "code",
   "execution_count": 29,
   "id": "c26d4a79",
   "metadata": {},
   "outputs": [],
   "source": [
    "def Not(x1):\n",
    "    w1=-1\n",
    "    z=x1*w1\n",
    "    threeshold=-0.5\n",
    "    return (int) (z>threeshold)"
   ]
  },
  {
   "cell_type": "code",
   "execution_count": 30,
   "id": "f35fa085",
   "metadata": {},
   "outputs": [
    {
     "name": "stdout",
     "output_type": "stream",
     "text": [
      "1\n",
      "0\n"
     ]
    }
   ],
   "source": [
    "print(Not(0))\n",
    "print(Not(1))"
   ]
  },
  {
   "cell_type": "code",
   "execution_count": 31,
   "id": "cf8d2053",
   "metadata": {},
   "outputs": [],
   "source": [
    "def XOr(x1,x2):\n",
    "    z1=And(Not(x1),x2)\n",
    "    z2=And(x1,Not(x2))\n",
    "    return Or(z1,z2)"
   ]
  },
  {
   "cell_type": "code",
   "execution_count": 32,
   "id": "3ce77790",
   "metadata": {},
   "outputs": [
    {
     "name": "stdout",
     "output_type": "stream",
     "text": [
      "0\n",
      "1\n",
      "1\n",
      "0\n"
     ]
    }
   ],
   "source": [
    "print(XOr(0,0))\n",
    "print(XOr(0,1))\n",
    "print(XOr(1,0))\n",
    "print(XOr(1,1))"
   ]
  },
  {
   "cell_type": "code",
   "execution_count": null,
   "id": "0771a490",
   "metadata": {},
   "outputs": [],
   "source": []
  },
  {
   "cell_type": "code",
   "execution_count": null,
   "id": "1275ca74",
   "metadata": {},
   "outputs": [],
   "source": []
  }
 ],
 "metadata": {
  "kernelspec": {
   "display_name": "Python 3 (ipykernel)",
   "language": "python",
   "name": "python3"
  },
  "language_info": {
   "codemirror_mode": {
    "name": "ipython",
    "version": 3
   },
   "file_extension": ".py",
   "mimetype": "text/x-python",
   "name": "python",
   "nbconvert_exporter": "python",
   "pygments_lexer": "ipython3",
   "version": "3.11.5"
  }
 },
 "nbformat": 4,
 "nbformat_minor": 5
}
